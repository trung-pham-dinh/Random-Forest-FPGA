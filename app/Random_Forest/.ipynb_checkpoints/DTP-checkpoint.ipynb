{
 "cells": [
  {
   "cell_type": "code",
   "execution_count": null,
   "metadata": {},
   "outputs": [],
   "source": [
    "from pynq import Overlay\n",
    "overlay = Overlay('overlay/random_forest.bit')"
   ]
  },
  {
   "cell_type": "code",
   "execution_count": null,
   "metadata": {},
   "outputs": [],
   "source": [
    "from pynq import MMIO"
   ]
  },
  {
   "cell_type": "code",
   "execution_count": null,
   "metadata": {},
   "outputs": [],
   "source": [
    "REGSBANK_BASE_ADDRESS=0x43C00000\n",
    "REGSBANK_ADDRESS_RANGE=64*1024\n",
    "\n",
    "BRAM_BASE_ADDRESS=0xC0000000\n",
    "BRAM_ADDRESS_RANGE=64*1024"
   ]
  },
  {
   "cell_type": "code",
   "execution_count": null,
   "metadata": {},
   "outputs": [],
   "source": [
    "regsbank_mmio = MMIO(REGSBANK_BASE_ADDRESS, REGSBANK_ADDRESS_RANGE)"
   ]
  },
  {
   "cell_type": "code",
   "execution_count": null,
   "metadata": {},
   "outputs": [],
   "source": [
    "from enum import IntEnum\n",
    "import time\n",
    "from pynq import allocate\n",
    "import numpy as np"
   ]
  },
  {
   "cell_type": "code",
   "execution_count": null,
   "metadata": {},
   "outputs": [],
   "source": [
    "def getbit(value, order):\n",
    "    orderVal = 2**order\n",
    "    tmpbin = value & orderVal\n",
    "    if (tmpbin):\n",
    "        return 1\n",
    "    else:\n",
    "        return 0\n",
    "\n",
    "def changebit(value, order, bit):\n",
    "    if (bit == 1):\n",
    "        return value | (1 << order)\n",
    "    else:\n",
    "        return value & ~(1 << order)\n",
    "\n",
    "class Cdma(IntEnum):\n",
    "    CDMACR = 0x0\n",
    "    CDMASR = 0x4\n",
    "    SA = 0x18\n",
    "    DA = 0x20\n",
    "    BTT = 0x28\n",
    "\n",
    "def transfer(cdma, src, dst, size):\n",
    "    # Step 1\n",
    "    cdmasr = cdma.read(Cdma.CDMASR)\n",
    "    cdmasrIdle = getbit(cdmasr, 1)\n",
    "    if (cdmasrIdle != 1):\n",
    "        print(\"CDMA is busy..\")\n",
    "        return\n",
    "\n",
    "    # Step 2\n",
    "    cdmacr = cdma.read(Cdma.CDMACR)\n",
    "    cdmacr = changebit(cdmacr, 12, 1) # set IOC_IrqEn\n",
    "    cdmacr = changebit(cdmacr, 14, 1) # set ERR_IrqEn\n",
    "    cdma.write(Cdma.CDMACR, cdmacr)\n",
    "\n",
    "    # Step 3\n",
    "    cdma.write(Cdma.SA, src)\n",
    "\n",
    "    # Step 4\n",
    "    cdma.write(Cdma.DA, dst)\n",
    "\n",
    "    # Step 5\n",
    "    cdma.write(Cdma.BTT, size)\n",
    "\n",
    "    # Step 6\n",
    "    print(\"Transferring...\")\n",
    "    cdma.read(Cdma.CDMASR)\n",
    "    cdmasrIdle = getbit(cdmasr, 1)\n",
    "    while (cdmasrIdle != 1):\n",
    "        print(\".\", end=\"\")\n",
    "        cdma.read(Cdma.CDMASR)\n",
    "        cdmasrIdle = getbit(cdmasr, 1)\n",
    "\n",
    "    # Step 7-8\n",
    "    cdmasr = cdma.read(Cdma.CDMASR)\n",
    "    cdmasr = changebit(cdmasr, 12, 1) # clear IOC_Irq\n",
    "    cdma.write(Cdma.CDMASR, cdmasr)\n",
    "\n",
    "    print(\"Transfered \" + str(size) + \" bytes from \" + str(src) + \" to \" + str(dst))\n",
    "    print(\"CDMA Done.\")\n",
    "\n",
    "def reset(cdma):\n",
    "    cdmacr = cdma.read(Cdma.CDMACR)\n",
    "    print(type(cdmacr))\n",
    "    print(cdmacr)\n",
    "    cdmacr = changebit(cdmacr, 2, 1)\n",
    "    print(cdmacr)\n",
    "    cdma.write(Cdma.CDMACR, cdmacr)"
   ]
  },
  {
   "cell_type": "code",
   "execution_count": null,
   "metadata": {},
   "outputs": [],
   "source": [
    "buffer_len = 8192\n",
    "output_buffer = allocate(shape=(buffer_len,), dtype=np.uint32)"
   ]
  },
  {
   "cell_type": "code",
   "execution_count": null,
   "metadata": {},
   "outputs": [],
   "source": [
    "print(\"==== READ CDMA ====\")\n",
    "\n",
    "# start_time = time.time()\n",
    "transfer(cdma, BRAM_BASE_ADDRESS, output_buffer.physical_address, buffer_len*4)\n",
    "# end_time = time.time()\n",
    "\n",
    "for i in range(10):\n",
    "   print(output_buffer[i])"
   ]
  }
 ],
 "metadata": {
  "kernelspec": {
   "display_name": "Python 3",
   "language": "python",
   "name": "python3"
  }
 },
 "nbformat": 4,
 "nbformat_minor": 2
}
